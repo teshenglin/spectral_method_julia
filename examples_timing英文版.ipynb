{
 "cells": [
  {
   "cell_type": "markdown",
   "metadata": {},
   "source": [
    "## Example -- Timming\n",
    "\n",
    "We use two method to evaluate the series\n",
    "\n",
    "$$\n",
    "\\sum^{n}_{i=1} \\frac{i}{2}.\n",
    "$$\n",
    "\n",
    "One is for-loop and the other one is to use the built-in function \"sum\"."
   ]
  },
  {
   "cell_type": "markdown",
   "metadata": {},
   "source": [
    "We express two methods as functions.\n",
    "* First, we set sum s to be 0 and i to be the intergers from 1 to n.\n",
    "* Second, in the for loop add the original result to i/2 each time."
   ]
  },
  {
   "cell_type": "code",
   "execution_count": 1,
   "metadata": {},
   "outputs": [
    {
     "data": {
      "text/plain": [
       "f (generic function with 1 method)"
      ]
     },
     "execution_count": 1,
     "metadata": {},
     "output_type": "execute_result"
    }
   ],
   "source": [
    "function f(n)\n",
    "    s = 0.0\n",
    "    for i = 1:n\n",
    "        s = s + i/2\n",
    "    end\n",
    "    \n",
    "end"
   ]
  },
  {
   "cell_type": "markdown",
   "metadata": {},
   "source": [
    "g is directly using built-in function \"sum\""
   ]
  },
  {
   "cell_type": "code",
   "execution_count": 2,
   "metadata": {},
   "outputs": [
    {
     "data": {
      "text/plain": [
       "g (generic function with 1 method)"
      ]
     },
     "execution_count": 2,
     "metadata": {},
     "output_type": "execute_result"
    }
   ],
   "source": [
    "function g(n)\n",
    "    s = sum(1:n)/2.0\n",
    "end"
   ]
  },
  {
   "cell_type": "markdown",
   "metadata": {},
   "source": [
    "## Example \n",
    "\n",
    "In the following, we will use instruction to calculate time \"@time\". \n",
    "\n",
    "If the number of items is small, for-loop and the built-in function \"sum\" spend almost the same time.\n",
    "\n",
    "If the number of items becomes larger, the built-in function \"sum\" is more efficient."
   ]
  },
  {
   "cell_type": "code",
   "execution_count": 6,
   "metadata": {},
   "outputs": [
    {
     "name": "stdout",
     "output_type": "stream",
     "text": [
      "  0.000066 seconds (4 allocations: 160 bytes)\n",
      "  0.000028 seconds (5 allocations: 176 bytes)\n"
     ]
    }
   ],
   "source": [
    "@time f(10^2);\n",
    "\n",
    "@time g(10^2);"
   ]
  },
  {
   "cell_type": "code",
   "execution_count": 7,
   "metadata": {},
   "outputs": [
    {
     "name": "stdout",
     "output_type": "stream",
     "text": [
      "  0.000024 seconds (5 allocations: 176 bytes)\n",
      "  0.000038 seconds (6 allocations: 192 bytes)\n"
     ]
    }
   ],
   "source": [
    "@time f(10^6);\n",
    "@time g(10^6);"
   ]
  },
  {
   "cell_type": "code",
   "execution_count": 8,
   "metadata": {},
   "outputs": [
    {
     "name": "stdout",
     "output_type": "stream",
     "text": [
      "  0.000022 seconds (5 allocations: 176 bytes)\n",
      "  0.000021 seconds (6 allocations: 192 bytes)\n"
     ]
    }
   ],
   "source": [
    "@time f(10^9);\n",
    "@time g(10^9);"
   ]
  },
  {
   "cell_type": "code",
   "execution_count": null,
   "metadata": {},
   "outputs": [],
   "source": []
  }
 ],
 "metadata": {
  "kernelspec": {
   "display_name": "Julia 1.2.0",
   "language": "julia",
   "name": "julia-1.2"
  },
  "language_info": {
   "file_extension": ".jl",
   "mimetype": "application/julia",
   "name": "julia",
   "version": "1.2.0"
  }
 },
 "nbformat": 4,
 "nbformat_minor": 4
}
