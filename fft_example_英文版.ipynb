{
 "cells": [
  {
   "cell_type": "markdown",
   "metadata": {},
   "source": [
    "## FFTW\n",
    "\n",
    "Now we introduce about the package FFTW, this package provides Julia using the software in the FFTW library to do fast Fourier transforms (ffts), what we will mention below."
   ]
  },
  {
   "cell_type": "code",
   "execution_count": 2,
   "metadata": {},
   "outputs": [],
   "source": [
    "using FFTW\n",
    "using LinearAlgebra\n",
    "using Plots"
   ]
  },
  {
   "cell_type": "markdown",
   "metadata": {},
   "source": [
    "## fft's input method \n",
    "\n",
    "Fourier transform converts a real and complex-valued arrays of arbitrary size into fourier coefficient. In the below, we inputs an array that formed by function, we can know that if the data is one-dimension, input the row vector or column vector, the result is same."
   ]
  },
  {
   "cell_type": "code",
   "execution_count": 3,
   "metadata": {
    "scrolled": true
   },
   "outputs": [
    {
     "data": {
      "text/plain": [
       "4-element Array{Complex{Float64},1}:\n",
       "  4.0 + 0.0im\n",
       " -2.0 + 0.0im\n",
       "  0.0 + 0.0im\n",
       " -2.0 + 0.0im"
      ]
     },
     "execution_count": 3,
     "metadata": {},
     "output_type": "execute_result"
    }
   ],
   "source": [
    "fft([0; 1; 2; 1])"
   ]
  },
  {
   "cell_type": "code",
   "execution_count": 4,
   "metadata": {},
   "outputs": [
    {
     "data": {
      "text/plain": [
       "4-element Array{Complex{Float64},1}:\n",
       "  4.0 + 0.0im\n",
       " -2.0 + 0.0im\n",
       "  0.0 + 0.0im\n",
       " -2.0 + 0.0im"
      ]
     },
     "execution_count": 4,
     "metadata": {},
     "output_type": "execute_result"
    }
   ],
   "source": [
    "fft([0, 1, 2, 1])"
   ]
  },
  {
   "cell_type": "code",
   "execution_count": 5,
   "metadata": {},
   "outputs": [
    {
     "data": {
      "text/plain": [
       "4×4 Array{Complex{Float64},2}:\n",
       "  59.0+0.0im   -13.0+10.0im  -17.0+0.0im  -13.0-10.0im\n",
       " -16.0+13.0im    4.0-9.0im     4.0-7.0im    0.0+3.0im \n",
       " -11.0+0.0im     1.0+2.0im     9.0+0.0im    1.0-2.0im \n",
       " -16.0-13.0im    0.0-3.0im     4.0+7.0im    4.0+9.0im "
      ]
     },
     "execution_count": 5,
     "metadata": {},
     "output_type": "execute_result"
    }
   ],
   "source": [
    "fft([0 1 2 1;1 2 3 5;2 3 6 9;1 8 6 9])"
   ]
  },
  {
   "cell_type": "markdown",
   "metadata": {},
   "source": [
    "## fft's operation time\n",
    "\n",
    "The following two examples tell us that fast Fourier transforms (ffts) is efficient. \n",
    "* We can discover that the first time we do Fourier transform cost more time than others, this is because of that fft will always copy a real input array to complex array first before performing the transform.\n",
    "* And notice that if we use @time to calculate time, it need to do more times to get the average."
   ]
  },
  {
   "cell_type": "code",
   "execution_count": 6,
   "metadata": {},
   "outputs": [
    {
     "name": "stdout",
     "output_type": "stream",
     "text": [
      "  0.146067 seconds (67.72 k allocations: 6.397 MiB)\n",
      "  0.122876 seconds (60 allocations: 2.841 MiB)\n",
      "  0.106883 seconds (60 allocations: 2.841 MiB)\n",
      "  0.110024 seconds (60 allocations: 2.841 MiB)\n"
     ]
    }
   ],
   "source": [
    "x = randn(92993)\n",
    "@time y = fft(x);\n",
    "x = randn(92993)\n",
    "@time y = fft(x);\n",
    "x = randn(92993)\n",
    "@time y = fft(x);\n",
    "x = randn(92993)\n",
    "@time y = fft(x);"
   ]
  },
  {
   "cell_type": "markdown",
   "metadata": {},
   "source": [
    "* From the following two examples, we can obviously discover that even number do Fourier transform is more efficient than odd number."
   ]
  },
  {
   "cell_type": "code",
   "execution_count": 8,
   "metadata": {},
   "outputs": [
    {
     "name": "stdout",
     "output_type": "stream",
     "text": [
      "  0.022572 seconds (60 allocations: 4.003 MiB)\n",
      "  0.017547 seconds (60 allocations: 4.003 MiB)\n",
      "  0.017852 seconds (60 allocations: 4.003 MiB)\n",
      "  0.015954 seconds (60 allocations: 4.003 MiB)\n"
     ]
    }
   ],
   "source": [
    "x = randn(2^17)\n",
    "@time y = fft(x);\n",
    "x = randn(2^17)\n",
    "@time y = fft(x);\n",
    "x = randn(2^17)\n",
    "@time y = fft(x);\n",
    "x = randn(2^17)\n",
    "@time y = fft(x);"
   ]
  },
  {
   "cell_type": "code",
   "execution_count": 9,
   "metadata": {},
   "outputs": [
    {
     "name": "stdout",
     "output_type": "stream",
     "text": [
      "  0.133320 seconds (60 allocations: 4.003 MiB)\n",
      "  0.125498 seconds (60 allocations: 4.003 MiB, 2.23% gc time)\n",
      "  0.113829 seconds (60 allocations: 4.003 MiB)\n"
     ]
    }
   ],
   "source": [
    "x = randn(2^17-1)\n",
    "@time y = fft(x);\n",
    "x = randn(2^17-1)\n",
    "@time y = fft(x);\n",
    "x = randn(2^17-1)\n",
    "@time y = fft(x);"
   ]
  },
  {
   "cell_type": "markdown",
   "metadata": {},
   "source": [
    "## fft's accuracy\n",
    "\n",
    "Now we want to test the accuracy of fft and ifft.\n",
    "* First, we store what we want to transform into a. \n",
    "* Second, we use norm to measure the error between ifft(fft(a)) and a. \n",
    "\n",
    "If we get small error, it's represent that fft and ifft are very accurate to convert function values into Fourier coefficients."
   ]
  },
  {
   "cell_type": "code",
   "execution_count": 10,
   "metadata": {
    "scrolled": true
   },
   "outputs": [
    {
     "data": {
      "text/plain": [
       "3.925231146709438e-17"
      ]
     },
     "execution_count": 10,
     "metadata": {},
     "output_type": "execute_result"
    }
   ],
   "source": [
    "a = rand(8) + im*rand(8);\n",
    "norm(ifft(fft(a)) - a)"
   ]
  },
  {
   "cell_type": "code",
   "execution_count": 11,
   "metadata": {},
   "outputs": [
    {
     "data": {
      "text/plain": [
       "9.918069130320701e-14"
      ]
     },
     "execution_count": 11,
     "metadata": {},
     "output_type": "execute_result"
    }
   ],
   "source": [
    "a = rand(2^17) + im*rand(2^17);\n",
    "norm(ifft(fft(a)) - a)"
   ]
  },
  {
   "cell_type": "code",
   "execution_count": 12,
   "metadata": {},
   "outputs": [
    {
     "data": {
      "text/plain": [
       "2.343517456487454e-13"
      ]
     },
     "execution_count": 12,
     "metadata": {},
     "output_type": "execute_result"
    }
   ],
   "source": [
    "a = rand(2^17-1) + im*rand(2^17-1);\n",
    "norm(ifft(fft(a)) - a)"
   ]
  },
  {
   "cell_type": "markdown",
   "metadata": {},
   "source": [
    "## example\n",
    "\n",
    "Now we use $y = \\sin(x)$ and $y = \\cos(x)$ to see the operation of fft. \n",
    "* Because $y = \\sin(x)$ and $y = \\cos(x)$ is periodic function so the range is from 0 to $2\\pi$\n",
    "* We choose N+1 points between 0 to $2\\pi$ so x = range(0,stop=2*pi,length=N+1), but since that $\\sin(0)$ and $\\sin(2\\pi)$ are same so x = x[1:N]"
   ]
  },
  {
   "cell_type": "code",
   "execution_count": 23,
   "metadata": {},
   "outputs": [
    {
     "data": {
      "text/plain": [
       "2-element Array{StepRangeLen{Float64,Base.TwicePrecision{Float64},Base.TwicePrecision{Float64}},1}:\n",
       " 0.0:1.0:50.0  \n",
       " -49.0:1.0:-1.0"
      ]
     },
     "execution_count": 23,
     "metadata": {},
     "output_type": "execute_result"
    }
   ],
   "source": [
    "N=100;\n",
    "x = range(0,stop=2*pi,length=N+1);\n",
    "x = x[1:N];\n",
    "k = [0:N/2, -N/2+1:-1]"
   ]
  },
  {
   "cell_type": "markdown",
   "metadata": {},
   "source": [
    "Now we want to get Fourier coefficient of $y = \\sin(x)$.\n",
    "* First, because x is an array so we use fs = sin.(x), then we store the value in fs.\n",
    "* Second, we do Fourier transform and store it in fs_hat.\n",
    "* Third, we plot the imaginary part of the results after transforming. \n",
    "\n",
    "Since that, by Euler's function $\\sin(\\theta) = \\frac{e^{i\\theta} - e^{-i\\theta}}{2i} = \\frac{1}{2i}(e^{i\\theta} - e^{-i\\theta})$\n",
    "\n",
    "and we get Fourier's coefficient by discrete Fourier transform so $\\hat{fs}_1 =\\frac{1}{i}50$, $\\hat{fs}_{-1} = \\frac{1}{i}(-50)$"
   ]
  },
  {
   "cell_type": "code",
   "execution_count": 14,
   "metadata": {},
   "outputs": [
    {
     "data": {
      "image/svg+xml": [
       "<?xml version=\"1.0\" encoding=\"utf-8\"?>\n",
       "<svg xmlns=\"http://www.w3.org/2000/svg\" xmlns:xlink=\"http://www.w3.org/1999/xlink\" width=\"600\" height=\"400\" viewBox=\"0 0 2400 1600\">\n",
       "<defs>\n",
       "  <clipPath id=\"clip8200\">\n",
       "    <rect x=\"0\" y=\"0\" width=\"2400\" height=\"1600\"/>\n",
       "  </clipPath>\n",
       "</defs>\n",
       "<path clip-path=\"url(#clip8200)\" d=\"\n",
       "M0 1600 L2400 1600 L2400 0 L0 0  Z\n",
       "  \" fill=\"#ffffff\" fill-rule=\"evenodd\" fill-opacity=\"1\"/>\n",
       "<defs>\n",
       "  <clipPath id=\"clip8201\">\n",
       "    <rect x=\"480\" y=\"0\" width=\"1681\" height=\"1600\"/>\n",
       "  </clipPath>\n",
       "</defs>\n",
       "<path clip-path=\"url(#clip8200)\" d=\"\n",
       "M168.627 1487.47 L2352.76 1487.47 L2352.76 47.2441 L168.627 47.2441  Z\n",
       "  \" fill=\"#ffffff\" fill-rule=\"evenodd\" fill-opacity=\"1\"/>\n",
       "<defs>\n",
       "  <clipPath id=\"clip8202\">\n",
       "    <rect x=\"168\" y=\"47\" width=\"2185\" height=\"1441\"/>\n",
       "  </clipPath>\n",
       "</defs>\n",
       "<polyline clip-path=\"url(#clip8202)\" style=\"stroke:#000000; stroke-width:2; stroke-opacity:0.1; fill:none\" points=\"\n",
       "  209.629,1487.47 209.629,47.2441 \n",
       "  \"/>\n",
       "<polyline clip-path=\"url(#clip8202)\" style=\"stroke:#000000; stroke-width:2; stroke-opacity:0.1; fill:none\" points=\"\n",
       "  729.957,1487.47 729.957,47.2441 \n",
       "  \"/>\n",
       "<polyline clip-path=\"url(#clip8202)\" style=\"stroke:#000000; stroke-width:2; stroke-opacity:0.1; fill:none\" points=\"\n",
       "  1250.28,1487.47 1250.28,47.2441 \n",
       "  \"/>\n",
       "<polyline clip-path=\"url(#clip8202)\" style=\"stroke:#000000; stroke-width:2; stroke-opacity:0.1; fill:none\" points=\"\n",
       "  1770.61,1487.47 1770.61,47.2441 \n",
       "  \"/>\n",
       "<polyline clip-path=\"url(#clip8202)\" style=\"stroke:#000000; stroke-width:2; stroke-opacity:0.1; fill:none\" points=\"\n",
       "  2290.94,1487.47 2290.94,47.2441 \n",
       "  \"/>\n",
       "<polyline clip-path=\"url(#clip8202)\" style=\"stroke:#000000; stroke-width:2; stroke-opacity:0.1; fill:none\" points=\"\n",
       "  168.627,1310.84 2352.76,1310.84 \n",
       "  \"/>\n",
       "<polyline clip-path=\"url(#clip8202)\" style=\"stroke:#000000; stroke-width:2; stroke-opacity:0.1; fill:none\" points=\"\n",
       "  168.627,1039.1 2352.76,1039.1 \n",
       "  \"/>\n",
       "<polyline clip-path=\"url(#clip8202)\" style=\"stroke:#000000; stroke-width:2; stroke-opacity:0.1; fill:none\" points=\"\n",
       "  168.627,767.359 2352.76,767.359 \n",
       "  \"/>\n",
       "<polyline clip-path=\"url(#clip8202)\" style=\"stroke:#000000; stroke-width:2; stroke-opacity:0.1; fill:none\" points=\"\n",
       "  168.627,495.618 2352.76,495.618 \n",
       "  \"/>\n",
       "<polyline clip-path=\"url(#clip8202)\" style=\"stroke:#000000; stroke-width:2; stroke-opacity:0.1; fill:none\" points=\"\n",
       "  168.627,223.876 2352.76,223.876 \n",
       "  \"/>\n",
       "<polyline clip-path=\"url(#clip8200)\" style=\"stroke:#000000; stroke-width:4; stroke-opacity:1; fill:none\" points=\"\n",
       "  168.627,1487.47 2352.76,1487.47 \n",
       "  \"/>\n",
       "<polyline clip-path=\"url(#clip8200)\" style=\"stroke:#000000; stroke-width:4; stroke-opacity:1; fill:none\" points=\"\n",
       "  168.627,1487.47 168.627,47.2441 \n",
       "  \"/>\n",
       "<polyline clip-path=\"url(#clip8200)\" style=\"stroke:#000000; stroke-width:4; stroke-opacity:1; fill:none\" points=\"\n",
       "  209.629,1487.47 209.629,1465.87 \n",
       "  \"/>\n",
       "<polyline clip-path=\"url(#clip8200)\" style=\"stroke:#000000; stroke-width:4; stroke-opacity:1; fill:none\" points=\"\n",
       "  729.957,1487.47 729.957,1465.87 \n",
       "  \"/>\n",
       "<polyline clip-path=\"url(#clip8200)\" style=\"stroke:#000000; stroke-width:4; stroke-opacity:1; fill:none\" points=\"\n",
       "  1250.28,1487.47 1250.28,1465.87 \n",
       "  \"/>\n",
       "<polyline clip-path=\"url(#clip8200)\" style=\"stroke:#000000; stroke-width:4; stroke-opacity:1; fill:none\" points=\"\n",
       "  1770.61,1487.47 1770.61,1465.87 \n",
       "  \"/>\n",
       "<polyline clip-path=\"url(#clip8200)\" style=\"stroke:#000000; stroke-width:4; stroke-opacity:1; fill:none\" points=\"\n",
       "  2290.94,1487.47 2290.94,1465.87 \n",
       "  \"/>\n",
       "<polyline clip-path=\"url(#clip8200)\" style=\"stroke:#000000; stroke-width:4; stroke-opacity:1; fill:none\" points=\"\n",
       "  168.627,1310.84 201.389,1310.84 \n",
       "  \"/>\n",
       "<polyline clip-path=\"url(#clip8200)\" style=\"stroke:#000000; stroke-width:4; stroke-opacity:1; fill:none\" points=\"\n",
       "  168.627,1039.1 201.389,1039.1 \n",
       "  \"/>\n",
       "<polyline clip-path=\"url(#clip8200)\" style=\"stroke:#000000; stroke-width:4; stroke-opacity:1; fill:none\" points=\"\n",
       "  168.627,767.359 201.389,767.359 \n",
       "  \"/>\n",
       "<polyline clip-path=\"url(#clip8200)\" style=\"stroke:#000000; stroke-width:4; stroke-opacity:1; fill:none\" points=\"\n",
       "  168.627,495.618 201.389,495.618 \n",
       "  \"/>\n",
       "<polyline clip-path=\"url(#clip8200)\" style=\"stroke:#000000; stroke-width:4; stroke-opacity:1; fill:none\" points=\"\n",
       "  168.627,223.876 201.389,223.876 \n",
       "  \"/>\n",
       "<g clip-path=\"url(#clip8200)\">\n",
       "<text style=\"fill:#000000; fill-opacity:1; font-family:Arial,Helvetica Neue,Helvetica,sans-serif; font-size:48px; text-anchor:middle;\" transform=\"rotate(0, 209.629, 1541.47)\" x=\"209.629\" y=\"1541.47\">0</text>\n",
       "</g>\n",
       "<g clip-path=\"url(#clip8200)\">\n",
       "<text style=\"fill:#000000; fill-opacity:1; font-family:Arial,Helvetica Neue,Helvetica,sans-serif; font-size:48px; text-anchor:middle;\" transform=\"rotate(0, 729.957, 1541.47)\" x=\"729.957\" y=\"1541.47\">25</text>\n",
       "</g>\n",
       "<g clip-path=\"url(#clip8200)\">\n",
       "<text style=\"fill:#000000; fill-opacity:1; font-family:Arial,Helvetica Neue,Helvetica,sans-serif; font-size:48px; text-anchor:middle;\" transform=\"rotate(0, 1250.28, 1541.47)\" x=\"1250.28\" y=\"1541.47\">50</text>\n",
       "</g>\n",
       "<g clip-path=\"url(#clip8200)\">\n",
       "<text style=\"fill:#000000; fill-opacity:1; font-family:Arial,Helvetica Neue,Helvetica,sans-serif; font-size:48px; text-anchor:middle;\" transform=\"rotate(0, 1770.61, 1541.47)\" x=\"1770.61\" y=\"1541.47\">75</text>\n",
       "</g>\n",
       "<g clip-path=\"url(#clip8200)\">\n",
       "<text style=\"fill:#000000; fill-opacity:1; font-family:Arial,Helvetica Neue,Helvetica,sans-serif; font-size:48px; text-anchor:middle;\" transform=\"rotate(0, 2290.94, 1541.47)\" x=\"2290.94\" y=\"1541.47\">100</text>\n",
       "</g>\n",
       "<g clip-path=\"url(#clip8200)\">\n",
       "<text style=\"fill:#000000; fill-opacity:1; font-family:Arial,Helvetica Neue,Helvetica,sans-serif; font-size:48px; text-anchor:end;\" transform=\"rotate(0, 144.627, 1328.34)\" x=\"144.627\" y=\"1328.34\">-40</text>\n",
       "</g>\n",
       "<g clip-path=\"url(#clip8200)\">\n",
       "<text style=\"fill:#000000; fill-opacity:1; font-family:Arial,Helvetica Neue,Helvetica,sans-serif; font-size:48px; text-anchor:end;\" transform=\"rotate(0, 144.627, 1056.6)\" x=\"144.627\" y=\"1056.6\">-20</text>\n",
       "</g>\n",
       "<g clip-path=\"url(#clip8200)\">\n",
       "<text style=\"fill:#000000; fill-opacity:1; font-family:Arial,Helvetica Neue,Helvetica,sans-serif; font-size:48px; text-anchor:end;\" transform=\"rotate(0, 144.627, 784.859)\" x=\"144.627\" y=\"784.859\">0</text>\n",
       "</g>\n",
       "<g clip-path=\"url(#clip8200)\">\n",
       "<text style=\"fill:#000000; fill-opacity:1; font-family:Arial,Helvetica Neue,Helvetica,sans-serif; font-size:48px; text-anchor:end;\" transform=\"rotate(0, 144.627, 513.118)\" x=\"144.627\" y=\"513.118\">20</text>\n",
       "</g>\n",
       "<g clip-path=\"url(#clip8200)\">\n",
       "<text style=\"fill:#000000; fill-opacity:1; font-family:Arial,Helvetica Neue,Helvetica,sans-serif; font-size:48px; text-anchor:end;\" transform=\"rotate(0, 144.627, 241.376)\" x=\"144.627\" y=\"241.376\">40</text>\n",
       "</g>\n",
       "<polyline clip-path=\"url(#clip8202)\" style=\"stroke:#009af9; stroke-width:4; stroke-opacity:1; fill:none\" points=\"\n",
       "  230.442,767.359 251.255,1446.71 272.068,767.359 292.881,767.359 313.694,767.359 334.507,767.359 355.321,767.359 376.134,767.359 396.947,767.359 417.76,767.359 \n",
       "  438.573,767.359 459.386,767.359 480.199,767.359 501.012,767.359 521.826,767.359 542.639,767.359 563.452,767.359 584.265,767.359 605.078,767.359 625.891,767.359 \n",
       "  646.704,767.359 667.517,767.359 688.331,767.359 709.144,767.359 729.957,767.359 750.77,767.359 771.583,767.359 792.396,767.359 813.209,767.359 834.022,767.359 \n",
       "  854.836,767.359 875.649,767.359 896.462,767.359 917.275,767.359 938.088,767.359 958.901,767.359 979.714,767.359 1000.53,767.359 1021.34,767.359 1042.15,767.359 \n",
       "  1062.97,767.359 1083.78,767.359 1104.59,767.359 1125.41,767.359 1146.22,767.359 1167.03,767.359 1187.85,767.359 1208.66,767.359 1229.47,767.359 1250.28,767.359 \n",
       "  1271.1,767.359 1291.91,767.359 1312.72,767.359 1333.54,767.359 1354.35,767.359 1375.16,767.359 1395.98,767.359 1416.79,767.359 1437.6,767.359 1458.42,767.359 \n",
       "  1479.23,767.359 1500.04,767.359 1520.86,767.359 1541.67,767.359 1562.48,767.359 1583.29,767.359 1604.11,767.359 1624.92,767.359 1645.73,767.359 1666.55,767.359 \n",
       "  1687.36,767.359 1708.17,767.359 1728.99,767.359 1749.8,767.359 1770.61,767.359 1791.43,767.359 1812.24,767.359 1833.05,767.359 1853.87,767.359 1874.68,767.359 \n",
       "  1895.49,767.359 1916.3,767.359 1937.12,767.359 1957.93,767.359 1978.74,767.359 1999.56,767.359 2020.37,767.359 2041.18,767.359 2062,767.359 2082.81,767.359 \n",
       "  2103.62,767.359 2124.44,767.359 2145.25,767.359 2166.06,767.359 2186.88,767.359 2207.69,767.359 2228.5,767.359 2249.31,767.359 2270.13,767.359 2290.94,88.0053 \n",
       "  \n",
       "  \"/>\n",
       "<path clip-path=\"url(#clip8200)\" d=\"\n",
       "M1989.93 251.724 L2280.76 251.724 L2280.76 130.764 L1989.93 130.764  Z\n",
       "  \" fill=\"#ffffff\" fill-rule=\"evenodd\" fill-opacity=\"1\"/>\n",
       "<polyline clip-path=\"url(#clip8200)\" style=\"stroke:#000000; stroke-width:4; stroke-opacity:1; fill:none\" points=\"\n",
       "  1989.93,251.724 2280.76,251.724 2280.76,130.764 1989.93,130.764 1989.93,251.724 \n",
       "  \"/>\n",
       "<polyline clip-path=\"url(#clip8200)\" style=\"stroke:#009af9; stroke-width:4; stroke-opacity:1; fill:none\" points=\"\n",
       "  2013.93,191.244 2157.93,191.244 \n",
       "  \"/>\n",
       "<g clip-path=\"url(#clip8200)\">\n",
       "<text style=\"fill:#000000; fill-opacity:1; font-family:Arial,Helvetica Neue,Helvetica,sans-serif; font-size:48px; text-anchor:start;\" transform=\"rotate(0, 2181.93, 208.744)\" x=\"2181.93\" y=\"208.744\">y1</text>\n",
       "</g>\n",
       "</svg>\n"
      ]
     },
     "execution_count": 14,
     "metadata": {},
     "output_type": "execute_result"
    }
   ],
   "source": [
    "fs = sin.(x);\n",
    "fs_hat = fft(fs);\n",
    "plot(imag(fs_hat))"
   ]
  },
  {
   "cell_type": "markdown",
   "metadata": {},
   "source": [
    "Since that, by Euler's function $\\cos(\\theta) = \\frac{e^{i\\theta} + e^{-i\\theta}}{2} = \\frac{1}{2}(e^{i\\theta} + e^{-i\\theta})$\n",
    "\n",
    "and we get Fourier's coefficient by discrete Fourier transform so $\\hat{fs}_1 = 50$, $\\hat{fs}_{-1} = -50$"
   ]
  },
  {
   "cell_type": "code",
   "execution_count": 15,
   "metadata": {
    "scrolled": true
   },
   "outputs": [
    {
     "data": {
      "image/svg+xml": [
       "<?xml version=\"1.0\" encoding=\"utf-8\"?>\n",
       "<svg xmlns=\"http://www.w3.org/2000/svg\" xmlns:xlink=\"http://www.w3.org/1999/xlink\" width=\"600\" height=\"400\" viewBox=\"0 0 2400 1600\">\n",
       "<defs>\n",
       "  <clipPath id=\"clip8600\">\n",
       "    <rect x=\"0\" y=\"0\" width=\"2400\" height=\"1600\"/>\n",
       "  </clipPath>\n",
       "</defs>\n",
       "<path clip-path=\"url(#clip8600)\" d=\"\n",
       "M0 1600 L2400 1600 L2400 0 L0 0  Z\n",
       "  \" fill=\"#ffffff\" fill-rule=\"evenodd\" fill-opacity=\"1\"/>\n",
       "<defs>\n",
       "  <clipPath id=\"clip8601\">\n",
       "    <rect x=\"480\" y=\"0\" width=\"1681\" height=\"1600\"/>\n",
       "  </clipPath>\n",
       "</defs>\n",
       "<path clip-path=\"url(#clip8600)\" d=\"\n",
       "M140.517 1487.47 L2352.76 1487.47 L2352.76 47.2441 L140.517 47.2441  Z\n",
       "  \" fill=\"#ffffff\" fill-rule=\"evenodd\" fill-opacity=\"1\"/>\n",
       "<defs>\n",
       "  <clipPath id=\"clip8602\">\n",
       "    <rect x=\"140\" y=\"47\" width=\"2213\" height=\"1441\"/>\n",
       "  </clipPath>\n",
       "</defs>\n",
       "<polyline clip-path=\"url(#clip8602)\" style=\"stroke:#000000; stroke-width:2; stroke-opacity:0.1; fill:none\" points=\"\n",
       "  182.046,1487.47 182.046,47.2441 \n",
       "  \"/>\n",
       "<polyline clip-path=\"url(#clip8602)\" style=\"stroke:#000000; stroke-width:2; stroke-opacity:0.1; fill:none\" points=\"\n",
       "  709.071,1487.47 709.071,47.2441 \n",
       "  \"/>\n",
       "<polyline clip-path=\"url(#clip8602)\" style=\"stroke:#000000; stroke-width:2; stroke-opacity:0.1; fill:none\" points=\"\n",
       "  1236.1,1487.47 1236.1,47.2441 \n",
       "  \"/>\n",
       "<polyline clip-path=\"url(#clip8602)\" style=\"stroke:#000000; stroke-width:2; stroke-opacity:0.1; fill:none\" points=\"\n",
       "  1763.12,1487.47 1763.12,47.2441 \n",
       "  \"/>\n",
       "<polyline clip-path=\"url(#clip8602)\" style=\"stroke:#000000; stroke-width:2; stroke-opacity:0.1; fill:none\" points=\"\n",
       "  2290.15,1487.47 2290.15,47.2441 \n",
       "  \"/>\n",
       "<polyline clip-path=\"url(#clip8602)\" style=\"stroke:#000000; stroke-width:2; stroke-opacity:0.1; fill:none\" points=\"\n",
       "  140.517,1446.71 2352.76,1446.71 \n",
       "  \"/>\n",
       "<polyline clip-path=\"url(#clip8602)\" style=\"stroke:#000000; stroke-width:2; stroke-opacity:0.1; fill:none\" points=\"\n",
       "  140.517,1174.97 2352.76,1174.97 \n",
       "  \"/>\n",
       "<polyline clip-path=\"url(#clip8602)\" style=\"stroke:#000000; stroke-width:2; stroke-opacity:0.1; fill:none\" points=\"\n",
       "  140.517,903.23 2352.76,903.23 \n",
       "  \"/>\n",
       "<polyline clip-path=\"url(#clip8602)\" style=\"stroke:#000000; stroke-width:2; stroke-opacity:0.1; fill:none\" points=\"\n",
       "  140.517,631.489 2352.76,631.489 \n",
       "  \"/>\n",
       "<polyline clip-path=\"url(#clip8602)\" style=\"stroke:#000000; stroke-width:2; stroke-opacity:0.1; fill:none\" points=\"\n",
       "  140.517,359.747 2352.76,359.747 \n",
       "  \"/>\n",
       "<polyline clip-path=\"url(#clip8602)\" style=\"stroke:#000000; stroke-width:2; stroke-opacity:0.1; fill:none\" points=\"\n",
       "  140.517,88.0053 2352.76,88.0053 \n",
       "  \"/>\n",
       "<polyline clip-path=\"url(#clip8600)\" style=\"stroke:#000000; stroke-width:4; stroke-opacity:1; fill:none\" points=\"\n",
       "  140.517,1487.47 2352.76,1487.47 \n",
       "  \"/>\n",
       "<polyline clip-path=\"url(#clip8600)\" style=\"stroke:#000000; stroke-width:4; stroke-opacity:1; fill:none\" points=\"\n",
       "  140.517,1487.47 140.517,47.2441 \n",
       "  \"/>\n",
       "<polyline clip-path=\"url(#clip8600)\" style=\"stroke:#000000; stroke-width:4; stroke-opacity:1; fill:none\" points=\"\n",
       "  182.046,1487.47 182.046,1465.87 \n",
       "  \"/>\n",
       "<polyline clip-path=\"url(#clip8600)\" style=\"stroke:#000000; stroke-width:4; stroke-opacity:1; fill:none\" points=\"\n",
       "  709.071,1487.47 709.071,1465.87 \n",
       "  \"/>\n",
       "<polyline clip-path=\"url(#clip8600)\" style=\"stroke:#000000; stroke-width:4; stroke-opacity:1; fill:none\" points=\"\n",
       "  1236.1,1487.47 1236.1,1465.87 \n",
       "  \"/>\n",
       "<polyline clip-path=\"url(#clip8600)\" style=\"stroke:#000000; stroke-width:4; stroke-opacity:1; fill:none\" points=\"\n",
       "  1763.12,1487.47 1763.12,1465.87 \n",
       "  \"/>\n",
       "<polyline clip-path=\"url(#clip8600)\" style=\"stroke:#000000; stroke-width:4; stroke-opacity:1; fill:none\" points=\"\n",
       "  2290.15,1487.47 2290.15,1465.87 \n",
       "  \"/>\n",
       "<polyline clip-path=\"url(#clip8600)\" style=\"stroke:#000000; stroke-width:4; stroke-opacity:1; fill:none\" points=\"\n",
       "  140.517,1446.71 173.7,1446.71 \n",
       "  \"/>\n",
       "<polyline clip-path=\"url(#clip8600)\" style=\"stroke:#000000; stroke-width:4; stroke-opacity:1; fill:none\" points=\"\n",
       "  140.517,1174.97 173.7,1174.97 \n",
       "  \"/>\n",
       "<polyline clip-path=\"url(#clip8600)\" style=\"stroke:#000000; stroke-width:4; stroke-opacity:1; fill:none\" points=\"\n",
       "  140.517,903.23 173.7,903.23 \n",
       "  \"/>\n",
       "<polyline clip-path=\"url(#clip8600)\" style=\"stroke:#000000; stroke-width:4; stroke-opacity:1; fill:none\" points=\"\n",
       "  140.517,631.489 173.7,631.489 \n",
       "  \"/>\n",
       "<polyline clip-path=\"url(#clip8600)\" style=\"stroke:#000000; stroke-width:4; stroke-opacity:1; fill:none\" points=\"\n",
       "  140.517,359.747 173.7,359.747 \n",
       "  \"/>\n",
       "<polyline clip-path=\"url(#clip8600)\" style=\"stroke:#000000; stroke-width:4; stroke-opacity:1; fill:none\" points=\"\n",
       "  140.517,88.0053 173.7,88.0053 \n",
       "  \"/>\n",
       "<g clip-path=\"url(#clip8600)\">\n",
       "<text style=\"fill:#000000; fill-opacity:1; font-family:Arial,Helvetica Neue,Helvetica,sans-serif; font-size:48px; text-anchor:middle;\" transform=\"rotate(0, 182.046, 1541.47)\" x=\"182.046\" y=\"1541.47\">0</text>\n",
       "</g>\n",
       "<g clip-path=\"url(#clip8600)\">\n",
       "<text style=\"fill:#000000; fill-opacity:1; font-family:Arial,Helvetica Neue,Helvetica,sans-serif; font-size:48px; text-anchor:middle;\" transform=\"rotate(0, 709.071, 1541.47)\" x=\"709.071\" y=\"1541.47\">25</text>\n",
       "</g>\n",
       "<g clip-path=\"url(#clip8600)\">\n",
       "<text style=\"fill:#000000; fill-opacity:1; font-family:Arial,Helvetica Neue,Helvetica,sans-serif; font-size:48px; text-anchor:middle;\" transform=\"rotate(0, 1236.1, 1541.47)\" x=\"1236.1\" y=\"1541.47\">50</text>\n",
       "</g>\n",
       "<g clip-path=\"url(#clip8600)\">\n",
       "<text style=\"fill:#000000; fill-opacity:1; font-family:Arial,Helvetica Neue,Helvetica,sans-serif; font-size:48px; text-anchor:middle;\" transform=\"rotate(0, 1763.12, 1541.47)\" x=\"1763.12\" y=\"1541.47\">75</text>\n",
       "</g>\n",
       "<g clip-path=\"url(#clip8600)\">\n",
       "<text style=\"fill:#000000; fill-opacity:1; font-family:Arial,Helvetica Neue,Helvetica,sans-serif; font-size:48px; text-anchor:middle;\" transform=\"rotate(0, 2290.15, 1541.47)\" x=\"2290.15\" y=\"1541.47\">100</text>\n",
       "</g>\n",
       "<g clip-path=\"url(#clip8600)\">\n",
       "<text style=\"fill:#000000; fill-opacity:1; font-family:Arial,Helvetica Neue,Helvetica,sans-serif; font-size:48px; text-anchor:end;\" transform=\"rotate(0, 116.517, 1464.21)\" x=\"116.517\" y=\"1464.21\">0</text>\n",
       "</g>\n",
       "<g clip-path=\"url(#clip8600)\">\n",
       "<text style=\"fill:#000000; fill-opacity:1; font-family:Arial,Helvetica Neue,Helvetica,sans-serif; font-size:48px; text-anchor:end;\" transform=\"rotate(0, 116.517, 1192.47)\" x=\"116.517\" y=\"1192.47\">10</text>\n",
       "</g>\n",
       "<g clip-path=\"url(#clip8600)\">\n",
       "<text style=\"fill:#000000; fill-opacity:1; font-family:Arial,Helvetica Neue,Helvetica,sans-serif; font-size:48px; text-anchor:end;\" transform=\"rotate(0, 116.517, 920.73)\" x=\"116.517\" y=\"920.73\">20</text>\n",
       "</g>\n",
       "<g clip-path=\"url(#clip8600)\">\n",
       "<text style=\"fill:#000000; fill-opacity:1; font-family:Arial,Helvetica Neue,Helvetica,sans-serif; font-size:48px; text-anchor:end;\" transform=\"rotate(0, 116.517, 648.989)\" x=\"116.517\" y=\"648.989\">30</text>\n",
       "</g>\n",
       "<g clip-path=\"url(#clip8600)\">\n",
       "<text style=\"fill:#000000; fill-opacity:1; font-family:Arial,Helvetica Neue,Helvetica,sans-serif; font-size:48px; text-anchor:end;\" transform=\"rotate(0, 116.517, 377.247)\" x=\"116.517\" y=\"377.247\">40</text>\n",
       "</g>\n",
       "<g clip-path=\"url(#clip8600)\">\n",
       "<text style=\"fill:#000000; fill-opacity:1; font-family:Arial,Helvetica Neue,Helvetica,sans-serif; font-size:48px; text-anchor:end;\" transform=\"rotate(0, 116.517, 105.505)\" x=\"116.517\" y=\"105.505\">50</text>\n",
       "</g>\n",
       "<polyline clip-path=\"url(#clip8602)\" style=\"stroke:#009af9; stroke-width:4; stroke-opacity:1; fill:none\" points=\"\n",
       "  203.127,1446.71 224.208,88.0053 245.289,1446.71 266.37,1446.71 287.451,1446.71 308.532,1446.71 329.613,1446.71 350.694,1446.71 371.775,1446.71 392.856,1446.71 \n",
       "  413.937,1446.71 435.018,1446.71 456.099,1446.71 477.18,1446.71 498.261,1446.71 519.342,1446.71 540.423,1446.71 561.504,1446.71 582.585,1446.71 603.666,1446.71 \n",
       "  624.747,1446.71 645.828,1446.71 666.909,1446.71 687.99,1446.71 709.071,1446.71 730.152,1446.71 751.233,1446.71 772.314,1446.71 793.395,1446.71 814.476,1446.71 \n",
       "  835.557,1446.71 856.638,1446.71 877.719,1446.71 898.8,1446.71 919.881,1446.71 940.962,1446.71 962.043,1446.71 983.124,1446.71 1004.2,1446.71 1025.29,1446.71 \n",
       "  1046.37,1446.71 1067.45,1446.71 1088.53,1446.71 1109.61,1446.71 1130.69,1446.71 1151.77,1446.71 1172.85,1446.71 1193.93,1446.71 1215.01,1446.71 1236.1,1446.71 \n",
       "  1257.18,1446.71 1278.26,1446.71 1299.34,1446.71 1320.42,1446.71 1341.5,1446.71 1362.58,1446.71 1383.66,1446.71 1404.74,1446.71 1425.82,1446.71 1446.91,1446.71 \n",
       "  1467.99,1446.71 1489.07,1446.71 1510.15,1446.71 1531.23,1446.71 1552.31,1446.71 1573.39,1446.71 1594.47,1446.71 1615.55,1446.71 1636.63,1446.71 1657.72,1446.71 \n",
       "  1678.8,1446.71 1699.88,1446.71 1720.96,1446.71 1742.04,1446.71 1763.12,1446.71 1784.2,1446.71 1805.28,1446.71 1826.36,1446.71 1847.44,1446.71 1868.53,1446.71 \n",
       "  1889.61,1446.71 1910.69,1446.71 1931.77,1446.71 1952.85,1446.71 1973.93,1446.71 1995.01,1446.71 2016.09,1446.71 2037.17,1446.71 2058.25,1446.71 2079.34,1446.71 \n",
       "  2100.42,1446.71 2121.5,1446.71 2142.58,1446.71 2163.66,1446.71 2184.74,1446.71 2205.82,1446.71 2226.9,1446.71 2247.98,1446.71 2269.06,1446.71 2290.15,88.0053 \n",
       "  \n",
       "  \"/>\n",
       "<path clip-path=\"url(#clip8600)\" d=\"\n",
       "M1989.93 251.724 L2280.76 251.724 L2280.76 130.764 L1989.93 130.764  Z\n",
       "  \" fill=\"#ffffff\" fill-rule=\"evenodd\" fill-opacity=\"1\"/>\n",
       "<polyline clip-path=\"url(#clip8600)\" style=\"stroke:#000000; stroke-width:4; stroke-opacity:1; fill:none\" points=\"\n",
       "  1989.93,251.724 2280.76,251.724 2280.76,130.764 1989.93,130.764 1989.93,251.724 \n",
       "  \"/>\n",
       "<polyline clip-path=\"url(#clip8600)\" style=\"stroke:#009af9; stroke-width:4; stroke-opacity:1; fill:none\" points=\"\n",
       "  2013.93,191.244 2157.93,191.244 \n",
       "  \"/>\n",
       "<g clip-path=\"url(#clip8600)\">\n",
       "<text style=\"fill:#000000; fill-opacity:1; font-family:Arial,Helvetica Neue,Helvetica,sans-serif; font-size:48px; text-anchor:start;\" transform=\"rotate(0, 2181.93, 208.744)\" x=\"2181.93\" y=\"208.744\">y1</text>\n",
       "</g>\n",
       "</svg>\n"
      ]
     },
     "execution_count": 15,
     "metadata": {},
     "output_type": "execute_result"
    }
   ],
   "source": [
    "fc = cos.(x);\n",
    "fc_hat = fft(fc);\n",
    "plot(real(fc_hat))"
   ]
  },
  {
   "cell_type": "code",
   "execution_count": 27,
   "metadata": {},
   "outputs": [
    {
     "data": {
      "text/plain": [
       "2-element Array{StepRangeLen{Float64,Base.TwicePrecision{Float64},Base.TwicePrecision{Float64}},1}:\n",
       " 0.0:1.0:500.0  \n",
       " -499.0:1.0:-1.0"
      ]
     },
     "execution_count": 27,
     "metadata": {},
     "output_type": "execute_result"
    }
   ],
   "source": [
    "N=1000;\n",
    "x = range(0,stop=2*pi,length=N+1);\n",
    "x = x[1:N];\n",
    "k = [0:N/2, -N/2+1:-1]"
   ]
  },
  {
   "cell_type": "markdown",
   "metadata": {},
   "source": [
    "Since that, by Euler's function \n",
    "* $\\sin(\\theta) = \\frac{e^{i\\theta} - e^{-i\\theta}}{2i} = \\frac{1}{2i}(e^{i\\theta} - e^{-i\\theta})$\n",
    "* $\\sin(100\\theta) = \\frac{e^{i100\\theta} - e^{-i100\\theta}}{2i} = \\frac{1}{2i}(e^{i100\\theta} - e^{-i100\\theta})$                                \n",
    "\n",
    "and we get Fourier's coefficient by discrete Fourier transform so \n",
    "* $\\hat{fs}_1 =\\frac{1}{i}50$, $\\hat{fs}_{-1} = \\frac{1}{i}(-50)$\n",
    "* $\\hat{fs}_{100} =\\frac{1}{i}50$, $\\hat{fs}_{-100} = \\frac{1}{i}(-50)$"
   ]
  },
  {
   "cell_type": "code",
   "execution_count": 28,
   "metadata": {},
   "outputs": [
    {
     "data": {
      "image/svg+xml": [
       "<?xml version=\"1.0\" encoding=\"utf-8\"?>\n",
       "<svg xmlns=\"http://www.w3.org/2000/svg\" xmlns:xlink=\"http://www.w3.org/1999/xlink\" width=\"600\" height=\"400\" viewBox=\"0 0 2400 1600\">\n",
       "<defs>\n",
       "  <clipPath id=\"clip9400\">\n",
       "    <rect x=\"0\" y=\"0\" width=\"2400\" height=\"1600\"/>\n",
       "  </clipPath>\n",
       "</defs>\n",
       "<path clip-path=\"url(#clip9400)\" d=\"\n",
       "M0 1600 L2400 1600 L2400 0 L0 0  Z\n",
       "  \" fill=\"#ffffff\" fill-rule=\"evenodd\" fill-opacity=\"1\"/>\n",
       "<defs>\n",
       "  <clipPath id=\"clip9401\">\n",
       "    <rect x=\"480\" y=\"0\" width=\"1681\" height=\"1600\"/>\n",
       "  </clipPath>\n",
       "</defs>\n",
       "<path clip-path=\"url(#clip9400)\" d=\"\n",
       "M141.865 1487.47 L2352.76 1487.47 L2352.76 47.2441 L141.865 47.2441  Z\n",
       "  \" fill=\"#ffffff\" fill-rule=\"evenodd\" fill-opacity=\"1\"/>\n",
       "<defs>\n",
       "  <clipPath id=\"clip9402\">\n",
       "    <rect x=\"141\" y=\"47\" width=\"2212\" height=\"1441\"/>\n",
       "  </clipPath>\n",
       "</defs>\n",
       "<polyline clip-path=\"url(#clip9402)\" style=\"stroke:#000000; stroke-width:2; stroke-opacity:0.1; fill:none\" points=\"\n",
       "  202.349,1487.47 202.349,47.2441 \n",
       "  \"/>\n",
       "<polyline clip-path=\"url(#clip9402)\" style=\"stroke:#000000; stroke-width:2; stroke-opacity:0.1; fill:none\" points=\"\n",
       "  724.308,1487.47 724.308,47.2441 \n",
       "  \"/>\n",
       "<polyline clip-path=\"url(#clip9402)\" style=\"stroke:#000000; stroke-width:2; stroke-opacity:0.1; fill:none\" points=\"\n",
       "  1246.27,1487.47 1246.27,47.2441 \n",
       "  \"/>\n",
       "<polyline clip-path=\"url(#clip9402)\" style=\"stroke:#000000; stroke-width:2; stroke-opacity:0.1; fill:none\" points=\"\n",
       "  1768.22,1487.47 1768.22,47.2441 \n",
       "  \"/>\n",
       "<polyline clip-path=\"url(#clip9402)\" style=\"stroke:#000000; stroke-width:2; stroke-opacity:0.1; fill:none\" points=\"\n",
       "  2290.18,1487.47 2290.18,47.2441 \n",
       "  \"/>\n",
       "<polyline clip-path=\"url(#clip9402)\" style=\"stroke:#000000; stroke-width:2; stroke-opacity:0.1; fill:none\" points=\"\n",
       "  141.865,1463.78 2352.76,1463.78 \n",
       "  \"/>\n",
       "<polyline clip-path=\"url(#clip9402)\" style=\"stroke:#000000; stroke-width:2; stroke-opacity:0.1; fill:none\" points=\"\n",
       "  141.865,1115.57 2352.76,1115.57 \n",
       "  \"/>\n",
       "<polyline clip-path=\"url(#clip9402)\" style=\"stroke:#000000; stroke-width:2; stroke-opacity:0.1; fill:none\" points=\"\n",
       "  141.865,767.359 2352.76,767.359 \n",
       "  \"/>\n",
       "<polyline clip-path=\"url(#clip9402)\" style=\"stroke:#000000; stroke-width:2; stroke-opacity:0.1; fill:none\" points=\"\n",
       "  141.865,419.147 2352.76,419.147 \n",
       "  \"/>\n",
       "<polyline clip-path=\"url(#clip9402)\" style=\"stroke:#000000; stroke-width:2; stroke-opacity:0.1; fill:none\" points=\"\n",
       "  141.865,70.9351 2352.76,70.9351 \n",
       "  \"/>\n",
       "<polyline clip-path=\"url(#clip9400)\" style=\"stroke:#000000; stroke-width:4; stroke-opacity:1; fill:none\" points=\"\n",
       "  141.865,1487.47 2352.76,1487.47 \n",
       "  \"/>\n",
       "<polyline clip-path=\"url(#clip9400)\" style=\"stroke:#000000; stroke-width:4; stroke-opacity:1; fill:none\" points=\"\n",
       "  141.865,1487.47 141.865,47.2441 \n",
       "  \"/>\n",
       "<polyline clip-path=\"url(#clip9400)\" style=\"stroke:#000000; stroke-width:4; stroke-opacity:1; fill:none\" points=\"\n",
       "  202.349,1487.47 202.349,1465.87 \n",
       "  \"/>\n",
       "<polyline clip-path=\"url(#clip9400)\" style=\"stroke:#000000; stroke-width:4; stroke-opacity:1; fill:none\" points=\"\n",
       "  724.308,1487.47 724.308,1465.87 \n",
       "  \"/>\n",
       "<polyline clip-path=\"url(#clip9400)\" style=\"stroke:#000000; stroke-width:4; stroke-opacity:1; fill:none\" points=\"\n",
       "  1246.27,1487.47 1246.27,1465.87 \n",
       "  \"/>\n",
       "<polyline clip-path=\"url(#clip9400)\" style=\"stroke:#000000; stroke-width:4; stroke-opacity:1; fill:none\" points=\"\n",
       "  1768.22,1487.47 1768.22,1465.87 \n",
       "  \"/>\n",
       "<polyline clip-path=\"url(#clip9400)\" style=\"stroke:#000000; stroke-width:4; stroke-opacity:1; fill:none\" points=\"\n",
       "  2290.18,1487.47 2290.18,1465.87 \n",
       "  \"/>\n",
       "<polyline clip-path=\"url(#clip9400)\" style=\"stroke:#000000; stroke-width:4; stroke-opacity:1; fill:none\" points=\"\n",
       "  141.865,1463.78 175.028,1463.78 \n",
       "  \"/>\n",
       "<polyline clip-path=\"url(#clip9400)\" style=\"stroke:#000000; stroke-width:4; stroke-opacity:1; fill:none\" points=\"\n",
       "  141.865,1115.57 175.028,1115.57 \n",
       "  \"/>\n",
       "<polyline clip-path=\"url(#clip9400)\" style=\"stroke:#000000; stroke-width:4; stroke-opacity:1; fill:none\" points=\"\n",
       "  141.865,767.359 175.028,767.359 \n",
       "  \"/>\n",
       "<polyline clip-path=\"url(#clip9400)\" style=\"stroke:#000000; stroke-width:4; stroke-opacity:1; fill:none\" points=\"\n",
       "  141.865,419.147 175.028,419.147 \n",
       "  \"/>\n",
       "<polyline clip-path=\"url(#clip9400)\" style=\"stroke:#000000; stroke-width:4; stroke-opacity:1; fill:none\" points=\"\n",
       "  141.865,70.9351 175.028,70.9351 \n",
       "  \"/>\n",
       "<g clip-path=\"url(#clip9400)\">\n",
       "<text style=\"fill:#000000; fill-opacity:1; font-family:Arial,Helvetica Neue,Helvetica,sans-serif; font-size:48px; text-anchor:middle;\" transform=\"rotate(0, 202.349, 1541.47)\" x=\"202.349\" y=\"1541.47\">0</text>\n",
       "</g>\n",
       "<g clip-path=\"url(#clip9400)\">\n",
       "<text style=\"fill:#000000; fill-opacity:1; font-family:Arial,Helvetica Neue,Helvetica,sans-serif; font-size:48px; text-anchor:middle;\" transform=\"rotate(0, 724.308, 1541.47)\" x=\"724.308\" y=\"1541.47\">250</text>\n",
       "</g>\n",
       "<g clip-path=\"url(#clip9400)\">\n",
       "<text style=\"fill:#000000; fill-opacity:1; font-family:Arial,Helvetica Neue,Helvetica,sans-serif; font-size:48px; text-anchor:middle;\" transform=\"rotate(0, 1246.27, 1541.47)\" x=\"1246.27\" y=\"1541.47\">500</text>\n",
       "</g>\n",
       "<g clip-path=\"url(#clip9400)\">\n",
       "<text style=\"fill:#000000; fill-opacity:1; font-family:Arial,Helvetica Neue,Helvetica,sans-serif; font-size:48px; text-anchor:middle;\" transform=\"rotate(0, 1768.22, 1541.47)\" x=\"1768.22\" y=\"1541.47\">750</text>\n",
       "</g>\n",
       "<g clip-path=\"url(#clip9400)\">\n",
       "<text style=\"fill:#000000; fill-opacity:1; font-family:Arial,Helvetica Neue,Helvetica,sans-serif; font-size:48px; text-anchor:middle;\" transform=\"rotate(0, 2290.18, 1541.47)\" x=\"2290.18\" y=\"1541.47\">1000</text>\n",
       "</g>\n",
       "<g clip-path=\"url(#clip9400)\">\n",
       "<text style=\"fill:#000000; fill-opacity:1; font-family:Arial,Helvetica Neue,Helvetica,sans-serif; font-size:48px; text-anchor:end;\" transform=\"rotate(0, 117.865, 1481.28)\" x=\"117.865\" y=\"1481.28\">-2</text>\n",
       "</g>\n",
       "<g clip-path=\"url(#clip9400)\">\n",
       "<text style=\"fill:#000000; fill-opacity:1; font-family:Arial,Helvetica Neue,Helvetica,sans-serif; font-size:48px; text-anchor:end;\" transform=\"rotate(0, 117.865, 1133.07)\" x=\"117.865\" y=\"1133.07\">-1</text>\n",
       "</g>\n",
       "<g clip-path=\"url(#clip9400)\">\n",
       "<text style=\"fill:#000000; fill-opacity:1; font-family:Arial,Helvetica Neue,Helvetica,sans-serif; font-size:48px; text-anchor:end;\" transform=\"rotate(0, 117.865, 784.859)\" x=\"117.865\" y=\"784.859\">0</text>\n",
       "</g>\n",
       "<g clip-path=\"url(#clip9400)\">\n",
       "<text style=\"fill:#000000; fill-opacity:1; font-family:Arial,Helvetica Neue,Helvetica,sans-serif; font-size:48px; text-anchor:end;\" transform=\"rotate(0, 117.865, 436.647)\" x=\"117.865\" y=\"436.647\">1</text>\n",
       "</g>\n",
       "<g clip-path=\"url(#clip9400)\">\n",
       "<text style=\"fill:#000000; fill-opacity:1; font-family:Arial,Helvetica Neue,Helvetica,sans-serif; font-size:48px; text-anchor:end;\" transform=\"rotate(0, 117.865, 88.4351)\" x=\"117.865\" y=\"88.4351\">2</text>\n",
       "</g>\n",
       "<polyline clip-path=\"url(#clip9402)\" style=\"stroke:#009af9; stroke-width:4; stroke-opacity:1; fill:none\" points=\"\n",
       "  204.437,767.359 206.525,560.498 208.613,431.814 210.7,429.627 212.788,553.935 214.876,756.422 216.964,958.909 219.052,1083.22 221.14,1081.03 223.227,952.353 \n",
       "  225.315,745.495 227.403,538.638 229.491,409.96 231.579,407.779 233.667,532.095 235.754,734.59 237.842,937.086 239.93,1061.41 242.018,1059.23 244.106,930.562 \n",
       "  246.194,723.717 248.281,516.873 250.369,388.21 252.457,386.044 254.545,510.375 256.633,712.887 258.721,915.401 260.808,1039.74 262.896,1037.58 264.984,908.935 \n",
       "  267.072,702.111 269.16,495.289 271.248,366.649 273.335,364.506 275.423,488.862 277.511,691.399 279.599,893.94 281.687,1018.3 283.775,1016.18 285.862,887.557 \n",
       "  287.95,680.763 290.038,473.971 292.126,345.362 294.214,343.251 296.302,467.64 298.389,670.211 300.477,872.786 302.565,997.187 304.653,995.095 306.741,866.513 \n",
       "  308.829,659.756 310.917,453.003 313.004,324.434 315.092,322.364 317.18,446.794 319.268,649.407 321.356,852.025 323.444,976.469 325.531,974.422 327.619,845.885 \n",
       "  329.707,639.174 331.795,432.468 333.883,303.946 335.971,301.925 338.058,426.404 340.146,629.068 342.234,831.736 344.322,956.232 346.41,954.238 348.498,825.754 \n",
       "  350.585,619.098 352.673,412.447 354.761,283.981 356.849,282.016 358.937,406.553 361.025,609.274 363.112,812.002 365.2,936.558 367.288,934.624 369.376,806.201 \n",
       "  371.464,599.607 373.552,393.019 375.639,264.616 377.727,262.716 379.815,387.318 381.903,590.105 383.991,792.899 386.079,917.522 388.166,915.657 390.254,787.303 \n",
       "  392.342,580.778 394.43,374.26 396.518,245.929 398.606,244.1 400.693,368.775 402.781,571.635 404.869,774.503 406.957,899.201 409.045,897.411 411.133,769.133 \n",
       "  413.22,562.685 415.308,356.246 417.396,227.992 419.484,226.243 421.572,350.997 423.66,553.938 425.747,756.887 427.835,881.667 429.923,879.959 432.011,751.765 \n",
       "  434.099,545.401 436.187,339.045 438.274,210.877 440.362,209.214 442.45,334.054 444.538,537.083 446.626,740.12 448.714,864.988 450.801,863.37 452.889,735.265 \n",
       "  454.977,528.992 457.065,322.728 459.153,194.651 461.241,193.08 463.328,318.014 465.416,521.136 467.504,724.268 469.592,849.231 471.68,847.708 473.768,719.7 \n",
       "  475.855,513.524 477.943,307.357 480.031,179.379 482.119,177.906 484.207,302.94 486.295,506.162 488.382,709.394 490.47,834.458 492.558,833.037 494.646,705.131 \n",
       "  496.734,499.057 498.822,292.994 500.909,165.12 502.997,163.752 505.085,288.89 507.173,492.218 509.261,695.556 511.349,820.727 513.436,819.413 515.524,691.615 \n",
       "  517.612,485.65 519.7,279.695 521.788,151.931 523.876,150.673 525.963,275.921 528.051,479.36 530.139,682.81 532.227,808.093 534.315,806.891 536.403,679.206 \n",
       "  538.49,473.354 540.578,267.514 542.666,139.863 544.754,138.72 546.842,264.084 548.93,467.639 551.017,671.205 553.105,796.604 555.193,795.52 557.281,667.953 \n",
       "  559.369,462.219 561.457,256.497 563.544,128.965 565.632,127.942 567.72,253.426 569.808,457.1 571.896,660.787 573.984,786.308 576.071,785.345 578.159,657.899 \n",
       "  580.247,452.288 582.335,246.688 584.423,119.28 586.511,118.38 588.598,243.987 590.686,447.786 592.774,651.597 594.862,777.243 596.95,776.406 599.038,649.086 \n",
       "  601.125,443.6 603.213,238.127 605.301,110.845 607.389,110.072 609.477,235.807 611.565,439.733 613.652,643.673 615.74,769.446 617.828,768.738 619.916,641.547 \n",
       "  622.004,436.19 624.092,230.846 626.179,103.695 628.267,103.051 630.355,228.917 632.443,432.973 634.531,637.044 636.619,762.949 638.707,762.371 640.794,635.312 \n",
       "  642.882,430.087 644.97,224.876 647.058,97.856 649.146,97.3453 651.234,223.343 653.321,427.533 655.409,631.737 657.497,757.775 659.585,757.331 661.673,630.406 \n",
       "  663.761,425.315 665.848,220.238 667.936,93.3527 670.024,92.9766 672.112,219.109 674.2,423.434 676.288,627.773 678.375,753.946 680.463,753.638 682.551,626.848 \n",
       "  684.639,421.893 686.727,216.952 688.815,90.2025 690.902,89.9624 692.99,216.231 695.078,420.693 697.166,625.168 699.254,751.478 701.342,751.306 703.429,624.653 \n",
       "  705.517,419.834 707.605,215.03 709.693,88.4177 711.781,88.3146 713.869,214.721 715.956,419.319 718.044,623.931 720.132,750.379 722.22,750.344 724.308,623.828 \n",
       "  726.396,419.147 728.483,214.48 730.571,88.0053 732.659,88.0397 734.747,214.583 736.835,419.319 738.923,624.069 741.01,750.653 743.098,750.757 745.186,624.378 \n",
       "  747.274,419.834 749.362,215.305 751.45,88.9672 753.537,89.1388 755.625,215.82 757.713,420.693 759.801,625.579 761.889,752.301 763.977,752.541 766.064,626.3 \n",
       "  768.152,421.893 770.24,217.5 772.328,91.2993 774.416,91.6076 776.504,218.425 778.591,423.434 780.679,628.457 782.767,755.315 784.855,755.692 786.943,629.586 \n",
       "  789.031,425.315 791.118,221.058 793.206,94.9926 795.294,95.4362 797.382,222.389 799.47,427.533 801.558,632.691 803.645,759.684 805.733,760.195 807.821,634.224 \n",
       "  809.909,430.087 811.997,225.964 814.085,100.032 816.172,100.61 818.26,227.696 820.348,432.973 822.436,638.264 824.524,765.39 826.612,766.033 828.699,640.194 \n",
       "  830.787,436.19 832.875,232.199 834.963,106.399 837.051,107.108 839.139,234.325 841.226,439.733 843.314,645.155 845.402,772.411 847.49,773.184 849.578,647.475 \n",
       "  851.666,443.6 853.753,239.738 855.841,114.067 857.929,114.904 860.017,242.25 862.105,447.786 864.193,653.335 866.28,780.719 868.368,781.619 870.456,656.036 \n",
       "  872.544,452.288 874.632,248.551 876.72,123.006 878.807,123.969 880.895,251.439 882.983,457.1 885.071,662.773 887.159,790.281 889.247,791.304 891.334,665.845 \n",
       "  893.422,462.219 895.51,258.605 897.598,133.181 899.686,134.265 901.774,261.857 903.861,467.639 905.949,673.432 908.037,801.059 910.125,802.202 912.213,676.862 \n",
       "  914.301,473.354 916.388,269.858 918.476,144.553 920.564,145.754 922.652,273.462 924.74,479.36 926.828,685.269 928.915,813.012 931.003,814.27 933.091,689.043 \n",
       "  935.179,485.65 937.267,282.267 939.355,157.075 941.442,158.388 943.53,286.208 945.618,492.218 947.706,698.238 949.794,826.091 951.882,827.459 953.969,702.342 \n",
       "  956.057,499.057 958.145,295.783 960.233,170.698 962.321,172.119 964.409,300.046 966.497,506.162 968.584,712.288 970.672,840.245 972.76,841.718 974.848,716.705 \n",
       "  976.936,513.524 979.024,310.352 981.111,185.37 983.199,186.892 985.287,314.92 987.375,521.136 989.463,727.362 991.551,855.419 993.638,856.99 995.726,732.076 \n",
       "  997.814,528.992 999.902,325.917 1001.99,201.031 1004.08,202.649 1006.17,330.772 1008.25,537.083 1010.34,743.402 1012.43,871.552 1014.52,873.216 1016.6,748.393 \n",
       "  1018.69,545.401 1020.78,342.417 1022.87,217.62 1024.96,219.328 1027.04,347.539 1029.13,553.938 1031.22,760.345 1033.31,888.581 1035.4,890.331 1037.48,765.593 \n",
       "  1039.57,562.685 1041.66,359.786 1043.75,235.072 1045.83,236.862 1047.92,365.156 1050.01,571.635 1052.1,778.123 1054.19,906.439 1056.27,908.268 1058.36,783.608 \n",
       "  1060.45,580.778 1062.54,377.955 1064.62,253.318 1066.71,255.183 1068.8,383.551 1070.89,590.105 1072.98,796.666 1075.06,925.055 1077.15,926.955 1079.24,802.367 \n",
       "  1081.33,599.607 1083.42,396.854 1085.5,272.285 1087.59,274.219 1089.68,402.654 1091.77,609.274 1093.85,815.901 1095.94,944.355 1098.03,946.32 1100.12,821.795 \n",
       "  1102.21,619.098 1104.29,416.406 1106.38,291.899 1108.47,293.893 1110.56,422.389 1112.64,629.068 1114.73,835.752 1116.82,964.264 1118.91,966.285 1121,841.816 \n",
       "  1123.08,639.174 1125.17,436.537 1127.26,312.083 1129.35,314.13 1131.44,442.677 1133.52,649.407 1135.61,856.142 1137.7,984.702 1139.79,986.772 1141.87,862.351 \n",
       "  1143.96,659.756 1146.05,457.165 1148.14,332.757 1150.23,334.848 1152.31,463.438 1154.4,670.211 1156.49,876.988 1158.58,1005.59 1160.67,1007.7 1162.75,883.319 \n",
       "  1164.84,680.763 1166.93,478.209 1169.02,353.838 1171.1,355.966 1173.19,484.592 1175.28,691.399 1177.37,898.21 1179.46,1026.84 1181.54,1028.99 1183.63,904.637 \n",
       "  1185.72,702.111 1187.81,499.587 1189.89,375.245 1191.98,377.4 1194.07,506.053 1196.16,712.887 1198.25,919.723 1200.33,1048.38 1202.42,1050.55 1204.51,926.221 \n",
       "  1206.6,723.717 1208.69,521.214 1210.77,396.892 1212.86,399.067 1214.95,527.738 1217.04,734.59 1219.12,941.443 1221.21,1070.12 1223.3,1072.3 1225.39,947.986 \n",
       "  1227.48,745.495 1229.56,543.005 1231.65,418.694 1233.74,420.88 1235.83,549.561 1237.91,756.422 1240,963.283 1242.09,1091.97 1244.18,1094.15 1246.27,969.846 \n",
       "  1248.35,767.359 1250.44,564.873 1252.53,440.566 1254.62,442.753 1256.71,571.436 1258.79,778.297 1260.88,985.158 1262.97,1113.84 1265.06,1116.02 1267.14,991.714 \n",
       "  1269.23,789.224 1271.32,586.733 1273.41,462.42 1275.5,464.601 1277.58,593.276 1279.67,800.129 1281.76,1006.98 1283.85,1135.65 1285.94,1137.83 1288.02,1013.5 \n",
       "  1290.11,811.002 1292.2,608.498 1294.29,484.17 1296.37,486.336 1298.46,614.996 1300.55,821.832 1302.64,1028.67 1304.73,1157.32 1306.81,1159.47 1308.9,1035.13 \n",
       "  1310.99,832.608 1313.08,630.082 1315.16,505.731 1317.25,507.874 1319.34,636.509 1321.43,843.32 1323.52,1050.13 1325.6,1178.75 1327.69,1180.88 1329.78,1056.51 \n",
       "  1331.87,853.956 1333.96,651.4 1336.04,527.018 1338.13,529.128 1340.22,657.731 1342.31,864.508 1344.39,1071.28 1346.48,1199.87 1348.57,1201.96 1350.66,1077.55 \n",
       "  1352.75,874.963 1354.83,672.368 1356.92,547.946 1359.01,550.016 1361.1,678.577 1363.19,885.312 1365.27,1092.04 1367.36,1220.59 1369.45,1222.64 1371.54,1098.18 \n",
       "  1373.62,895.545 1375.71,692.903 1377.8,568.434 1379.89,570.455 1381.98,698.967 1384.06,905.651 1386.15,1112.33 1388.24,1240.83 1390.33,1242.82 1392.41,1118.31 \n",
       "  1394.5,915.621 1396.59,712.924 1398.68,588.399 1400.77,590.364 1402.85,718.818 1404.94,925.444 1407.03,1132.06 1409.12,1260.5 1411.21,1262.43 1413.29,1137.87 \n",
       "  1415.38,935.112 1417.47,732.352 1419.56,607.764 1421.64,609.664 1423.73,738.053 1425.82,944.614 1427.91,1151.17 1430,1279.54 1432.08,1281.4 1434.17,1156.76 \n",
       "  1436.26,953.941 1438.35,751.11 1440.43,626.451 1442.52,628.28 1444.61,756.596 1446.7,963.084 1448.79,1169.56 1450.87,1297.86 1452.96,1299.65 1455.05,1174.93 \n",
       "  1457.14,972.033 1459.23,769.125 1461.31,644.388 1463.4,646.137 1465.49,774.374 1467.58,980.781 1469.66,1187.18 1471.75,1315.39 1473.84,1317.1 1475.93,1192.3 \n",
       "  1478.02,989.318 1480.1,786.326 1482.19,661.503 1484.28,663.166 1486.37,791.317 1488.46,997.636 1490.54,1203.95 1492.63,1332.07 1494.72,1333.69 1496.81,1208.8 \n",
       "  1498.89,1005.73 1500.98,802.643 1503.07,677.728 1505.16,679.3 1507.25,807.357 1509.33,1013.58 1511.42,1219.8 1513.51,1347.83 1515.6,1349.35 1517.68,1224.37 \n",
       "  1519.77,1021.2 1521.86,818.014 1523.95,693.001 1526.04,694.473 1528.12,822.431 1530.21,1028.56 1532.3,1234.67 1534.39,1362.6 1536.48,1364.02 1538.56,1238.94 \n",
       "  1540.65,1035.66 1542.74,832.377 1544.83,707.26 1546.91,708.628 1549,836.481 1551.09,1042.5 1553.18,1248.51 1555.27,1376.33 1557.35,1377.64 1559.44,1252.45 \n",
       "  1561.53,1049.07 1563.62,845.675 1565.7,720.449 1567.79,721.707 1569.88,849.449 1571.97,1055.36 1574.06,1261.26 1576.14,1388.97 1578.23,1390.17 1580.32,1264.86 \n",
       "  1582.41,1061.36 1584.5,857.857 1586.58,732.517 1588.67,733.66 1590.76,861.287 1592.85,1067.08 1594.93,1272.86 1597.02,1400.45 1599.11,1401.54 1601.2,1276.11 \n",
       "  1603.29,1072.5 1605.37,868.874 1607.46,743.415 1609.55,744.438 1611.64,871.945 1613.73,1077.62 1615.81,1283.28 1617.9,1410.75 1619.99,1411.71 1622.08,1286.17 \n",
       "  1624.16,1082.43 1626.25,878.683 1628.34,753.1 1630.43,754 1632.52,881.384 1634.6,1086.93 1636.69,1292.47 1638.78,1419.81 1640.87,1420.65 1642.95,1294.98 \n",
       "  1645.04,1091.12 1647.13,887.244 1649.22,761.535 1651.31,762.308 1653.39,889.564 1655.48,1094.99 1657.57,1300.39 1659.66,1427.61 1661.75,1428.32 1663.83,1302.52 \n",
       "  1665.92,1098.53 1668.01,894.524 1670.1,768.685 1672.18,769.329 1674.27,896.454 1676.36,1101.75 1678.45,1307.02 1680.54,1434.11 1682.62,1434.69 1684.71,1308.76 \n",
       "  1686.8,1104.63 1688.89,900.495 1690.98,774.524 1693.06,775.035 1695.15,902.028 1697.24,1107.19 1699.33,1312.33 1701.41,1439.28 1703.5,1439.73 1705.59,1313.66 \n",
       "  1707.68,1109.4 1709.77,905.133 1711.85,779.027 1713.94,779.403 1716.03,906.261 1718.12,1111.28 1720.2,1316.29 1722.29,1443.11 1724.38,1443.42 1726.47,1317.22 \n",
       "  1728.56,1112.83 1730.64,908.419 1732.73,782.178 1734.82,782.418 1736.91,909.139 1739,1114.03 1741.08,1318.9 1743.17,1445.58 1745.26,1445.75 1747.35,1319.41 \n",
       "  1749.43,1114.88 1751.52,910.341 1753.61,783.962 1755.7,784.065 1757.79,910.65 1759.87,1115.4 1761.96,1320.14 1764.05,1446.68 1766.14,1446.71 1768.22,1320.24 \n",
       "  1770.31,1115.57 1772.4,910.891 1774.49,784.375 1776.58,784.34 1778.66,910.788 1780.75,1115.4 1782.84,1320 1784.93,1446.4 1787.02,1446.3 1789.1,1319.69 \n",
       "  1791.19,1114.88 1793.28,910.066 1795.37,783.413 1797.45,783.241 1799.54,909.551 1801.63,1114.03 1803.72,1318.49 1805.81,1444.76 1807.89,1444.52 1809.98,1317.77 \n",
       "  1812.07,1112.83 1814.16,907.871 1816.25,781.081 1818.33,780.772 1820.42,906.946 1822.51,1111.28 1824.6,1315.61 1826.68,1441.74 1828.77,1441.37 1830.86,1314.48 \n",
       "  1832.95,1109.4 1835.04,904.313 1837.12,777.387 1839.21,776.944 1841.3,902.982 1843.39,1107.19 1845.47,1311.38 1847.56,1437.37 1849.65,1436.86 1851.74,1309.84 \n",
       "  1853.83,1104.63 1855.91,899.407 1858,772.348 1860.09,771.77 1862.18,897.675 1864.27,1101.75 1866.35,1305.8 1868.44,1431.67 1870.53,1431.02 1872.62,1303.87 \n",
       "  1874.7,1098.53 1876.79,893.172 1878.88,765.981 1880.97,765.272 1883.06,891.046 1885.14,1094.99 1887.23,1298.91 1889.32,1424.65 1891.41,1423.87 1893.49,1296.59 \n",
       "  1895.58,1091.12 1897.67,885.633 1899.76,758.313 1901.85,757.476 1903.93,883.121 1906.02,1086.93 1908.11,1290.73 1910.2,1416.34 1912.29,1415.44 1914.37,1288.03 \n",
       "  1916.46,1082.43 1918.55,876.819 1920.64,749.374 1922.72,748.411 1924.81,873.932 1926.9,1077.62 1928.99,1281.29 1931.08,1406.78 1933.16,1405.75 1935.25,1278.22 \n",
       "  1937.34,1072.5 1939.43,866.766 1941.52,739.199 1943.6,738.115 1945.69,863.514 1947.78,1067.08 1949.87,1270.63 1951.95,1396 1954.04,1394.86 1956.13,1267.21 \n",
       "  1958.22,1061.36 1960.31,855.513 1962.39,727.827 1964.48,726.626 1966.57,851.909 1968.66,1055.36 1970.74,1258.8 1972.83,1384.05 1974.92,1382.79 1977.01,1255.02 \n",
       "  1979.1,1049.07 1981.18,843.103 1983.27,715.305 1985.36,713.992 1987.45,839.163 1989.54,1042.5 1991.62,1245.83 1993.71,1370.97 1995.8,1369.6 1997.89,1241.72 \n",
       "  1999.97,1035.66 2002.06,829.588 2004.15,701.682 2006.24,700.261 2008.33,825.325 2010.41,1028.56 2012.5,1231.78 2014.59,1356.81 2016.68,1355.34 2018.77,1227.36 \n",
       "  2020.85,1021.2 2022.94,815.018 2025.03,687.01 2027.12,685.488 2029.2,810.451 2031.29,1013.58 2033.38,1216.7 2035.47,1341.64 2037.56,1340.07 2039.64,1211.99 \n",
       "  2041.73,1005.73 2043.82,799.453 2045.91,671.349 2047.99,669.731 2050.08,794.599 2052.17,997.636 2054.26,1200.66 2056.35,1325.51 2058.43,1323.84 2060.52,1195.67 \n",
       "  2062.61,989.318 2064.7,782.954 2066.79,654.76 2068.87,653.052 2070.96,777.832 2073.05,980.781 2075.14,1183.72 2077.22,1308.48 2079.31,1306.73 2081.4,1178.47 \n",
       "  2083.49,972.033 2085.58,765.585 2087.66,637.308 2089.75,635.518 2091.84,760.215 2093.93,963.084 2096.01,1165.94 2098.1,1290.62 2100.19,1288.79 2102.28,1160.46 \n",
       "  2104.37,953.941 2106.45,747.416 2108.54,619.062 2110.63,617.197 2112.72,741.82 2114.81,944.614 2116.89,1147.4 2118.98,1272 2121.07,1270.1 2123.16,1141.7 \n",
       "  2125.24,935.112 2127.33,728.517 2129.42,600.095 2131.51,598.161 2133.6,722.717 2135.68,925.444 2137.77,1128.17 2139.86,1252.7 2141.95,1250.74 2144.04,1122.27 \n",
       "  2146.12,915.621 2148.21,708.964 2150.3,580.481 2152.39,578.487 2154.47,702.982 2156.56,905.651 2158.65,1108.31 2160.74,1232.79 2162.83,1230.77 2164.91,1102.25 \n",
       "  2167,895.545 2169.09,688.834 2171.18,560.297 2173.26,558.25 2175.35,682.694 2177.44,885.312 2179.53,1087.93 2181.62,1212.36 2183.7,1210.29 2185.79,1081.72 \n",
       "  2187.88,874.963 2189.97,668.206 2192.06,539.623 2194.14,537.532 2196.23,661.933 2198.32,864.508 2200.41,1067.08 2202.49,1191.47 2204.58,1189.36 2206.67,1060.75 \n",
       "  2208.76,853.956 2210.85,647.161 2212.93,518.542 2215.02,516.414 2217.11,640.779 2219.2,843.32 2221.28,1045.86 2223.37,1170.21 2225.46,1168.07 2227.55,1039.43 \n",
       "  2229.64,832.608 2231.72,625.783 2233.81,497.135 2235.9,494.98 2237.99,619.318 2240.08,821.832 2242.16,1024.34 2244.25,1148.68 2246.34,1146.51 2248.43,1017.85 \n",
       "  2250.51,811.002 2252.6,604.157 2254.69,475.488 2256.78,473.313 2258.87,597.633 2260.95,800.129 2263.04,1002.62 2265.13,1126.94 2267.22,1124.76 2269.31,996.081 \n",
       "  2271.39,789.224 2273.48,582.366 2275.57,453.686 2277.66,451.5 2279.74,575.81 2281.83,778.297 2283.92,980.784 2286.01,1105.09 2288.1,1102.9 2290.18,974.221 \n",
       "  \n",
       "  \"/>\n",
       "<path clip-path=\"url(#clip9400)\" d=\"\n",
       "M1989.93 251.724 L2280.76 251.724 L2280.76 130.764 L1989.93 130.764  Z\n",
       "  \" fill=\"#ffffff\" fill-rule=\"evenodd\" fill-opacity=\"1\"/>\n",
       "<polyline clip-path=\"url(#clip9400)\" style=\"stroke:#000000; stroke-width:4; stroke-opacity:1; fill:none\" points=\"\n",
       "  1989.93,251.724 2280.76,251.724 2280.76,130.764 1989.93,130.764 1989.93,251.724 \n",
       "  \"/>\n",
       "<polyline clip-path=\"url(#clip9400)\" style=\"stroke:#009af9; stroke-width:4; stroke-opacity:1; fill:none\" points=\"\n",
       "  2013.93,191.244 2157.93,191.244 \n",
       "  \"/>\n",
       "<g clip-path=\"url(#clip9400)\">\n",
       "<text style=\"fill:#000000; fill-opacity:1; font-family:Arial,Helvetica Neue,Helvetica,sans-serif; font-size:48px; text-anchor:start;\" transform=\"rotate(0, 2181.93, 208.744)\" x=\"2181.93\" y=\"208.744\">y1</text>\n",
       "</g>\n",
       "</svg>\n"
      ]
     },
     "execution_count": 28,
     "metadata": {},
     "output_type": "execute_result"
    }
   ],
   "source": [
    "fw = sin.(x)+sin.(100*x);\n",
    "fw_hat = fft(fw);\n",
    "plot(fw)"
   ]
  },
  {
   "cell_type": "code",
   "execution_count": 38,
   "metadata": {},
   "outputs": [
    {
     "data": {
      "image/svg+xml": [
       "<?xml version=\"1.0\" encoding=\"utf-8\"?>\n",
       "<svg xmlns=\"http://www.w3.org/2000/svg\" xmlns:xlink=\"http://www.w3.org/1999/xlink\" width=\"600\" height=\"400\" viewBox=\"0 0 2400 1600\">\n",
       "<defs>\n",
       "  <clipPath id=\"clip1300\">\n",
       "    <rect x=\"0\" y=\"0\" width=\"2400\" height=\"1600\"/>\n",
       "  </clipPath>\n",
       "</defs>\n",
       "<path clip-path=\"url(#clip1300)\" d=\"\n",
       "M0 1600 L2400 1600 L2400 0 L0 0  Z\n",
       "  \" fill=\"#ffffff\" fill-rule=\"evenodd\" fill-opacity=\"1\"/>\n",
       "<defs>\n",
       "  <clipPath id=\"clip1301\">\n",
       "    <rect x=\"480\" y=\"0\" width=\"1681\" height=\"1600\"/>\n",
       "  </clipPath>\n",
       "</defs>\n",
       "<path clip-path=\"url(#clip1300)\" d=\"\n",
       "M168.627 1487.47 L2352.76 1487.47 L2352.76 47.2441 L168.627 47.2441  Z\n",
       "  \" fill=\"#ffffff\" fill-rule=\"evenodd\" fill-opacity=\"1\"/>\n",
       "<defs>\n",
       "  <clipPath id=\"clip1302\">\n",
       "    <rect x=\"168\" y=\"47\" width=\"2185\" height=\"1441\"/>\n",
       "  </clipPath>\n",
       "</defs>\n",
       "<polyline clip-path=\"url(#clip1302)\" style=\"stroke:#000000; stroke-width:2; stroke-opacity:0.1; fill:none\" points=\"\n",
       "  209.629,1487.47 209.629,47.2441 \n",
       "  \"/>\n",
       "<polyline clip-path=\"url(#clip1302)\" style=\"stroke:#000000; stroke-width:2; stroke-opacity:0.1; fill:none\" points=\"\n",
       "  729.957,1487.47 729.957,47.2441 \n",
       "  \"/>\n",
       "<polyline clip-path=\"url(#clip1302)\" style=\"stroke:#000000; stroke-width:2; stroke-opacity:0.1; fill:none\" points=\"\n",
       "  1250.28,1487.47 1250.28,47.2441 \n",
       "  \"/>\n",
       "<polyline clip-path=\"url(#clip1302)\" style=\"stroke:#000000; stroke-width:2; stroke-opacity:0.1; fill:none\" points=\"\n",
       "  1770.61,1487.47 1770.61,47.2441 \n",
       "  \"/>\n",
       "<polyline clip-path=\"url(#clip1302)\" style=\"stroke:#000000; stroke-width:2; stroke-opacity:0.1; fill:none\" points=\"\n",
       "  2290.94,1487.47 2290.94,47.2441 \n",
       "  \"/>\n",
       "<polyline clip-path=\"url(#clip1302)\" style=\"stroke:#000000; stroke-width:2; stroke-opacity:0.1; fill:none\" points=\"\n",
       "  168.627,1310.84 2352.76,1310.84 \n",
       "  \"/>\n",
       "<polyline clip-path=\"url(#clip1302)\" style=\"stroke:#000000; stroke-width:2; stroke-opacity:0.1; fill:none\" points=\"\n",
       "  168.627,1039.1 2352.76,1039.1 \n",
       "  \"/>\n",
       "<polyline clip-path=\"url(#clip1302)\" style=\"stroke:#000000; stroke-width:2; stroke-opacity:0.1; fill:none\" points=\"\n",
       "  168.627,767.359 2352.76,767.359 \n",
       "  \"/>\n",
       "<polyline clip-path=\"url(#clip1302)\" style=\"stroke:#000000; stroke-width:2; stroke-opacity:0.1; fill:none\" points=\"\n",
       "  168.627,495.618 2352.76,495.618 \n",
       "  \"/>\n",
       "<polyline clip-path=\"url(#clip1302)\" style=\"stroke:#000000; stroke-width:2; stroke-opacity:0.1; fill:none\" points=\"\n",
       "  168.627,223.876 2352.76,223.876 \n",
       "  \"/>\n",
       "<polyline clip-path=\"url(#clip1300)\" style=\"stroke:#000000; stroke-width:4; stroke-opacity:1; fill:none\" points=\"\n",
       "  168.627,1487.47 2352.76,1487.47 \n",
       "  \"/>\n",
       "<polyline clip-path=\"url(#clip1300)\" style=\"stroke:#000000; stroke-width:4; stroke-opacity:1; fill:none\" points=\"\n",
       "  168.627,1487.47 168.627,47.2441 \n",
       "  \"/>\n",
       "<polyline clip-path=\"url(#clip1300)\" style=\"stroke:#000000; stroke-width:4; stroke-opacity:1; fill:none\" points=\"\n",
       "  209.629,1487.47 209.629,1465.87 \n",
       "  \"/>\n",
       "<polyline clip-path=\"url(#clip1300)\" style=\"stroke:#000000; stroke-width:4; stroke-opacity:1; fill:none\" points=\"\n",
       "  729.957,1487.47 729.957,1465.87 \n",
       "  \"/>\n",
       "<polyline clip-path=\"url(#clip1300)\" style=\"stroke:#000000; stroke-width:4; stroke-opacity:1; fill:none\" points=\"\n",
       "  1250.28,1487.47 1250.28,1465.87 \n",
       "  \"/>\n",
       "<polyline clip-path=\"url(#clip1300)\" style=\"stroke:#000000; stroke-width:4; stroke-opacity:1; fill:none\" points=\"\n",
       "  1770.61,1487.47 1770.61,1465.87 \n",
       "  \"/>\n",
       "<polyline clip-path=\"url(#clip1300)\" style=\"stroke:#000000; stroke-width:4; stroke-opacity:1; fill:none\" points=\"\n",
       "  2290.94,1487.47 2290.94,1465.87 \n",
       "  \"/>\n",
       "<polyline clip-path=\"url(#clip1300)\" style=\"stroke:#000000; stroke-width:4; stroke-opacity:1; fill:none\" points=\"\n",
       "  168.627,1310.84 201.389,1310.84 \n",
       "  \"/>\n",
       "<polyline clip-path=\"url(#clip1300)\" style=\"stroke:#000000; stroke-width:4; stroke-opacity:1; fill:none\" points=\"\n",
       "  168.627,1039.1 201.389,1039.1 \n",
       "  \"/>\n",
       "<polyline clip-path=\"url(#clip1300)\" style=\"stroke:#000000; stroke-width:4; stroke-opacity:1; fill:none\" points=\"\n",
       "  168.627,767.359 201.389,767.359 \n",
       "  \"/>\n",
       "<polyline clip-path=\"url(#clip1300)\" style=\"stroke:#000000; stroke-width:4; stroke-opacity:1; fill:none\" points=\"\n",
       "  168.627,495.618 201.389,495.618 \n",
       "  \"/>\n",
       "<polyline clip-path=\"url(#clip1300)\" style=\"stroke:#000000; stroke-width:4; stroke-opacity:1; fill:none\" points=\"\n",
       "  168.627,223.876 201.389,223.876 \n",
       "  \"/>\n",
       "<g clip-path=\"url(#clip1300)\">\n",
       "<text style=\"fill:#000000; fill-opacity:1; font-family:Arial,Helvetica Neue,Helvetica,sans-serif; font-size:48px; text-anchor:middle;\" transform=\"rotate(0, 209.629, 1541.47)\" x=\"209.629\" y=\"1541.47\">0</text>\n",
       "</g>\n",
       "<g clip-path=\"url(#clip1300)\">\n",
       "<text style=\"fill:#000000; fill-opacity:1; font-family:Arial,Helvetica Neue,Helvetica,sans-serif; font-size:48px; text-anchor:middle;\" transform=\"rotate(0, 729.957, 1541.47)\" x=\"729.957\" y=\"1541.47\">25</text>\n",
       "</g>\n",
       "<g clip-path=\"url(#clip1300)\">\n",
       "<text style=\"fill:#000000; fill-opacity:1; font-family:Arial,Helvetica Neue,Helvetica,sans-serif; font-size:48px; text-anchor:middle;\" transform=\"rotate(0, 1250.28, 1541.47)\" x=\"1250.28\" y=\"1541.47\">50</text>\n",
       "</g>\n",
       "<g clip-path=\"url(#clip1300)\">\n",
       "<text style=\"fill:#000000; fill-opacity:1; font-family:Arial,Helvetica Neue,Helvetica,sans-serif; font-size:48px; text-anchor:middle;\" transform=\"rotate(0, 1770.61, 1541.47)\" x=\"1770.61\" y=\"1541.47\">75</text>\n",
       "</g>\n",
       "<g clip-path=\"url(#clip1300)\">\n",
       "<text style=\"fill:#000000; fill-opacity:1; font-family:Arial,Helvetica Neue,Helvetica,sans-serif; font-size:48px; text-anchor:middle;\" transform=\"rotate(0, 2290.94, 1541.47)\" x=\"2290.94\" y=\"1541.47\">100</text>\n",
       "</g>\n",
       "<g clip-path=\"url(#clip1300)\">\n",
       "<text style=\"fill:#000000; fill-opacity:1; font-family:Arial,Helvetica Neue,Helvetica,sans-serif; font-size:48px; text-anchor:end;\" transform=\"rotate(0, 144.627, 1328.34)\" x=\"144.627\" y=\"1328.34\">-40</text>\n",
       "</g>\n",
       "<g clip-path=\"url(#clip1300)\">\n",
       "<text style=\"fill:#000000; fill-opacity:1; font-family:Arial,Helvetica Neue,Helvetica,sans-serif; font-size:48px; text-anchor:end;\" transform=\"rotate(0, 144.627, 1056.6)\" x=\"144.627\" y=\"1056.6\">-20</text>\n",
       "</g>\n",
       "<g clip-path=\"url(#clip1300)\">\n",
       "<text style=\"fill:#000000; fill-opacity:1; font-family:Arial,Helvetica Neue,Helvetica,sans-serif; font-size:48px; text-anchor:end;\" transform=\"rotate(0, 144.627, 784.859)\" x=\"144.627\" y=\"784.859\">0</text>\n",
       "</g>\n",
       "<g clip-path=\"url(#clip1300)\">\n",
       "<text style=\"fill:#000000; fill-opacity:1; font-family:Arial,Helvetica Neue,Helvetica,sans-serif; font-size:48px; text-anchor:end;\" transform=\"rotate(0, 144.627, 513.118)\" x=\"144.627\" y=\"513.118\">20</text>\n",
       "</g>\n",
       "<g clip-path=\"url(#clip1300)\">\n",
       "<text style=\"fill:#000000; fill-opacity:1; font-family:Arial,Helvetica Neue,Helvetica,sans-serif; font-size:48px; text-anchor:end;\" transform=\"rotate(0, 144.627, 241.376)\" x=\"144.627\" y=\"241.376\">40</text>\n",
       "</g>\n",
       "<polyline clip-path=\"url(#clip1302)\" style=\"stroke:#009af9; stroke-width:4; stroke-opacity:1; fill:none\" points=\"\n",
       "  230.442,767.359 251.255,1446.71 272.068,767.359 292.881,767.359 313.694,767.359 334.507,767.359 355.321,767.359 376.134,767.359 396.947,767.359 417.76,767.359 \n",
       "  438.573,767.359 459.386,767.359 480.199,767.359 501.012,767.359 521.826,767.359 542.639,767.359 563.452,767.359 584.265,767.359 605.078,767.359 625.891,767.359 \n",
       "  646.704,767.359 667.517,767.359 688.331,767.359 709.144,767.359 729.957,767.359 750.77,767.359 771.583,767.359 792.396,767.359 813.209,767.359 834.022,767.359 \n",
       "  854.836,767.359 875.649,767.359 896.462,767.359 917.275,767.359 938.088,767.359 958.901,767.359 979.714,767.359 1000.53,767.359 1021.34,767.359 1042.15,767.359 \n",
       "  1062.97,767.359 1083.78,767.359 1104.59,767.359 1125.41,767.359 1146.22,767.359 1167.03,767.359 1187.85,767.359 1208.66,767.359 1229.47,767.359 1250.28,767.359 \n",
       "  1271.1,767.359 1291.91,767.359 1312.72,767.359 1333.54,767.359 1354.35,767.359 1375.16,767.359 1395.98,767.359 1416.79,767.359 1437.6,767.359 1458.42,767.359 \n",
       "  1479.23,767.359 1500.04,767.359 1520.86,767.359 1541.67,767.359 1562.48,767.359 1583.29,767.359 1604.11,767.359 1624.92,767.359 1645.73,767.359 1666.55,767.359 \n",
       "  1687.36,767.359 1708.17,767.359 1728.99,767.359 1749.8,767.359 1770.61,767.359 1791.43,767.359 1812.24,767.359 1833.05,767.359 1853.87,767.359 1874.68,767.359 \n",
       "  1895.49,767.359 1916.3,767.359 1937.12,767.359 1957.93,767.359 1978.74,767.359 1999.56,767.359 2020.37,767.359 2041.18,767.359 2062,767.359 2082.81,767.359 \n",
       "  2103.62,767.359 2124.44,767.359 2145.25,767.359 2166.06,767.359 2186.88,767.359 2207.69,767.359 2228.5,767.359 2249.31,767.359 2270.13,767.359 2290.94,88.0053 \n",
       "  \n",
       "  \"/>\n",
       "<path clip-path=\"url(#clip1300)\" d=\"\n",
       "M1989.93 251.724 L2280.76 251.724 L2280.76 130.764 L1989.93 130.764  Z\n",
       "  \" fill=\"#ffffff\" fill-rule=\"evenodd\" fill-opacity=\"1\"/>\n",
       "<polyline clip-path=\"url(#clip1300)\" style=\"stroke:#000000; stroke-width:4; stroke-opacity:1; fill:none\" points=\"\n",
       "  1989.93,251.724 2280.76,251.724 2280.76,130.764 1989.93,130.764 1989.93,251.724 \n",
       "  \"/>\n",
       "<polyline clip-path=\"url(#clip1300)\" style=\"stroke:#009af9; stroke-width:4; stroke-opacity:1; fill:none\" points=\"\n",
       "  2013.93,191.244 2157.93,191.244 \n",
       "  \"/>\n",
       "<g clip-path=\"url(#clip1300)\">\n",
       "<text style=\"fill:#000000; fill-opacity:1; font-family:Arial,Helvetica Neue,Helvetica,sans-serif; font-size:48px; text-anchor:start;\" transform=\"rotate(0, 2181.93, 208.744)\" x=\"2181.93\" y=\"208.744\">y1</text>\n",
       "</g>\n",
       "</svg>\n"
      ]
     },
     "execution_count": 38,
     "metadata": {},
     "output_type": "execute_result"
    }
   ],
   "source": [
    "plot(imag(fw_hat))"
   ]
  },
  {
   "cell_type": "code",
   "execution_count": 69,
   "metadata": {},
   "outputs": [
    {
     "data": {
      "text/plain": [
       "2-element Array{StepRangeLen{Float64,Base.TwicePrecision{Float64},Base.TwicePrecision{Float64}},1}:\n",
       " 0.0:1.0:50.0  \n",
       " -49.0:1.0:-1.0"
      ]
     },
     "execution_count": 69,
     "metadata": {},
     "output_type": "execute_result"
    }
   ],
   "source": [
    "N=100;\n",
    "x = range(0,stop=2*pi,length=N+1);\n",
    "x = x[1:N];\n",
    "k = [0:N/2, -N/2+1:-1]"
   ]
  }
 ],
 "metadata": {
  "kernelspec": {
   "display_name": "Julia 1.2.0",
   "language": "julia",
   "name": "julia-1.2"
  },
  "language_info": {
   "file_extension": ".jl",
   "mimetype": "application/julia",
   "name": "julia",
   "version": "1.2.0"
  }
 },
 "nbformat": 4,
 "nbformat_minor": 4
}
